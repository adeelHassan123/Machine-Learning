{
 "cells": [
  {
   "cell_type": "code",
   "execution_count": 82,
   "id": "bf5af7de",
   "metadata": {},
   "outputs": [],
   "source": [
    "from sklearn.datasets import load_diabetes\n",
    "from sklearn.metrics import r2_score\n",
    "from sklearn.linear_model import LinearRegression, Ridge\n",
    "import numpy as np \n",
    "import matplotlib.pyplot as plt"
   ]
  },
  {
   "cell_type": "code",
   "execution_count": 83,
   "id": "572885fe",
   "metadata": {},
   "outputs": [],
   "source": [
    "data = load_diabetes()"
   ]
  },
  {
   "cell_type": "code",
   "execution_count": 84,
   "id": "5c3240be",
   "metadata": {},
   "outputs": [],
   "source": [
    "X = data.data\n",
    "y = data.target"
   ]
  },
  {
   "cell_type": "code",
   "execution_count": 85,
   "id": "2f23f9dd",
   "metadata": {},
   "outputs": [
    {
     "data": {
      "text/plain": [
       "((442, 10), (442,))"
      ]
     },
     "execution_count": 85,
     "metadata": {},
     "output_type": "execute_result"
    }
   ],
   "source": [
    "X.shape , y.shape"
   ]
  },
  {
   "cell_type": "code",
   "execution_count": 86,
   "id": "e03d49dd",
   "metadata": {},
   "outputs": [],
   "source": [
    "from sklearn.model_selection import train_test_split"
   ]
  },
  {
   "cell_type": "code",
   "execution_count": 87,
   "id": "7d9b4338",
   "metadata": {},
   "outputs": [],
   "source": [
    "X_train,X_test,y_train ,y_test = train_test_split(X,y,random_state=22)"
   ]
  },
  {
   "cell_type": "code",
   "execution_count": 88,
   "id": "3ad35a8a",
   "metadata": {},
   "outputs": [
    {
     "data": {
      "text/plain": [
       "((331, 10), (331,), (111, 10), (111,))"
      ]
     },
     "execution_count": 88,
     "metadata": {},
     "output_type": "execute_result"
    }
   ],
   "source": [
    "X_train.shape,y_train.shape , X_test.shape,y_test.shape"
   ]
  },
  {
   "cell_type": "code",
   "execution_count": 89,
   "id": "4cd54deb",
   "metadata": {},
   "outputs": [
    {
     "data": {
      "text/plain": [
       "0.4805023753109876"
      ]
     },
     "execution_count": 89,
     "metadata": {},
     "output_type": "execute_result"
    }
   ],
   "source": [
    "lr = LinearRegression()\n",
    "lr.fit(X_train,y_train)\n",
    "lr_predict = lr.predict(X_test)\n",
    "r2_score(y_test,lr_predict)"
   ]
  },
  {
   "cell_type": "code",
   "execution_count": 90,
   "id": "1062f386",
   "metadata": {},
   "outputs": [
    {
     "data": {
      "text/plain": [
       "0.48050116620010885"
      ]
     },
     "execution_count": 90,
     "metadata": {},
     "output_type": "execute_result"
    }
   ],
   "source": [
    "rr = Ridge(alpha=0.000001, max_iter=500 , solver='sparse_cg')\n",
    "rr.fit(X_train,y_train)\n",
    "rr_predict = rr.predict(X_test)\n",
    "r2_score(y_test,rr_predict)"
   ]
  },
  {
   "cell_type": "code",
   "execution_count": 91,
   "id": "073a754f",
   "metadata": {},
   "outputs": [
    {
     "data": {
      "text/plain": [
       "array([0., 0., 0., 0., 0., 0., 0., 0., 0., 0.])"
      ]
     },
     "execution_count": 91,
     "metadata": {},
     "output_type": "execute_result"
    }
   ],
   "source": [
    "np.zeros(X.shape[1])"
   ]
  },
  {
   "cell_type": "code",
   "execution_count": 92,
   "id": "78b3ee14",
   "metadata": {},
   "outputs": [],
   "source": [
    "class my_GD_RidgeRegression():\n",
    "    def __init__(self, alpha=0.01, learning_rate=0.0000001, epochs=1000):\n",
    "        self.alpha = alpha\n",
    "        self.learning_rate = learning_rate\n",
    "        self._b = None\n",
    "        self.epochs = epochs\n",
    "\n",
    "    def fit(self, X, y):\n",
    "        X = np.insert(X, 0, 1, axis=1) \n",
    "        X_trans = X.T\n",
    "        self._b = np.ones(X.shape[1]) \n",
    "\n",
    "        for i in range(self.epochs):\n",
    "            _loss_slope = np.dot(np.dot(X_trans, X), self._b) - np.dot(X_trans, y) + self.alpha * self._b\n",
    "            self._b = self._b - self.learning_rate * _loss_slope\n",
    "\n",
    "    def predict(self, X_test):\n",
    "        X_test = np.insert(X_test, 0, 1, axis=1)\n",
    "        return np.dot(X_test, self._b)\n"
   ]
  },
  {
   "cell_type": "code",
   "execution_count": 93,
   "id": "6e881fa0",
   "metadata": {},
   "outputs": [
    {
     "data": {
      "text/plain": [
       "0.48050116620010885"
      ]
     },
     "execution_count": 93,
     "metadata": {},
     "output_type": "execute_result"
    }
   ],
   "source": [
    "rr = my_GD_RidgeRegression()\n",
    "rr.fit(X_train,y_train)\n",
    "rr.predict(X_test)\n",
    "r2_score(y_test,rr_predict)"
   ]
  },
  {
   "cell_type": "code",
   "execution_count": null,
   "id": "da6998a5",
   "metadata": {},
   "outputs": [],
   "source": []
  }
 ],
 "metadata": {
  "kernelspec": {
   "display_name": "Python 3",
   "language": "python",
   "name": "python3"
  },
  "language_info": {
   "codemirror_mode": {
    "name": "ipython",
    "version": 3
   },
   "file_extension": ".py",
   "mimetype": "text/x-python",
   "name": "python",
   "nbconvert_exporter": "python",
   "pygments_lexer": "ipython3",
   "version": "3.12.6"
  }
 },
 "nbformat": 4,
 "nbformat_minor": 5
}
