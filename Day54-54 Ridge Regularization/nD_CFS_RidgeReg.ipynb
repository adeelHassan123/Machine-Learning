{
 "cells": [
  {
   "cell_type": "code",
   "execution_count": 27,
   "id": "7df264d8",
   "metadata": {},
   "outputs": [],
   "source": [
    "from sklearn.datasets import load_diabetes\n",
    "from sklearn.metrics import r2_score\n",
    "from sklearn.linear_model import LinearRegression, Ridge\n",
    "import numpy as np \n",
    "import matplotlib.pyplot as plt"
   ]
  },
  {
   "cell_type": "code",
   "execution_count": 28,
   "id": "04ce6aa3",
   "metadata": {},
   "outputs": [],
   "source": [
    "data = load_diabetes()"
   ]
  },
  {
   "cell_type": "code",
   "execution_count": 29,
   "id": "f3cbf561",
   "metadata": {},
   "outputs": [],
   "source": [
    "X = data.data\n",
    "y = data.target"
   ]
  },
  {
   "cell_type": "code",
   "execution_count": 30,
   "id": "71fa882a",
   "metadata": {},
   "outputs": [
    {
     "data": {
      "text/plain": [
       "((442, 10), (442,))"
      ]
     },
     "execution_count": 30,
     "metadata": {},
     "output_type": "execute_result"
    }
   ],
   "source": [
    "X.shape , y.shape"
   ]
  },
  {
   "cell_type": "code",
   "execution_count": 31,
   "id": "bb3ebb73",
   "metadata": {},
   "outputs": [],
   "source": [
    "from sklearn.model_selection import train_test_split"
   ]
  },
  {
   "cell_type": "code",
   "execution_count": 32,
   "id": "6b66c261",
   "metadata": {},
   "outputs": [],
   "source": [
    "X_train,X_test,y_train ,y_test = train_test_split(X,y,random_state=22)"
   ]
  },
  {
   "cell_type": "code",
   "execution_count": 33,
   "id": "a7a38891",
   "metadata": {},
   "outputs": [
    {
     "data": {
      "text/plain": [
       "((331, 10), (331,), (111, 10), (111,))"
      ]
     },
     "execution_count": 33,
     "metadata": {},
     "output_type": "execute_result"
    }
   ],
   "source": [
    "X_train.shape,y_train.shape , X_test.shape,y_test.shape"
   ]
  },
  {
   "cell_type": "code",
   "execution_count": 34,
   "id": "cc3504c7",
   "metadata": {},
   "outputs": [
    {
     "data": {
      "text/plain": [
       "0.4805023753109876"
      ]
     },
     "execution_count": 34,
     "metadata": {},
     "output_type": "execute_result"
    }
   ],
   "source": [
    "lr = LinearRegression()\n",
    "lr.fit(X_train,y_train)\n",
    "lr_predict = lr.predict(X_test)\n",
    "r2_score(y_test,lr_predict)"
   ]
  },
  {
   "cell_type": "code",
   "execution_count": 35,
   "id": "c05172a2",
   "metadata": {},
   "outputs": [
    {
     "data": {
      "text/plain": [
       "0.48050116611140936"
      ]
     },
     "execution_count": 35,
     "metadata": {},
     "output_type": "execute_result"
    }
   ],
   "source": [
    "rr = Ridge(alpha=0.000001)\n",
    "rr.fit(X_train,y_train)\n",
    "rr_predict = rr.predict(X_test)\n",
    "r2_score(y_test,rr_predict)"
   ]
  },
  {
   "cell_type": "code",
   "execution_count": 36,
   "id": "72e5055e",
   "metadata": {},
   "outputs": [
    {
     "data": {
      "text/plain": [
       "array([0., 0., 0., 0., 0., 0., 0., 0., 0., 0.])"
      ]
     },
     "execution_count": 36,
     "metadata": {},
     "output_type": "execute_result"
    }
   ],
   "source": [
    "np.zeros(X.shape[1])"
   ]
  },
  {
   "cell_type": "code",
   "execution_count": 37,
   "id": "9c2627aa",
   "metadata": {},
   "outputs": [],
   "source": [
    "class my_nD_RidgeRegression():\n",
    "    def __init__(self,alpha=0.01):\n",
    "        self.alpha = alpha\n",
    "        self._b = None\n",
    "    \n",
    "    def fit(self,X,y):\n",
    "        X = np.insert(X, 0, 1, axis=1)\n",
    "        X_trans= X.T\n",
    "        _I = np.identity(X.shape[1])\n",
    "        _I[0, 0] = 0\n",
    "        self._b = np.zeros(X.shape[1]+1) \n",
    "        inver = np.linalg.inv(np.dot(X_trans,X) + self.alpha * _I)\n",
    "        self._b = np.dot(inver , np.dot(X_trans,y))\n",
    "\n",
    "    def predict(self, X_test):\n",
    "        X_test = np.insert(X_test, 0, 1, axis=1)\n",
    "        return np.dot(X_test, self._b)"
   ]
  },
  {
   "cell_type": "code",
   "execution_count": 38,
   "id": "b54ff609",
   "metadata": {},
   "outputs": [
    {
     "data": {
      "text/plain": [
       "0.4805011661114088"
      ]
     },
     "execution_count": 38,
     "metadata": {},
     "output_type": "execute_result"
    }
   ],
   "source": [
    "rr = my_nD_RidgeRegression(alpha=0.000001)\n",
    "rr.fit(X_train,y_train)\n",
    "rr_predict = rr.predict(X_test)\n",
    "r2_score(y_test,rr_predict)"
   ]
  }
 ],
 "metadata": {
  "kernelspec": {
   "display_name": "Python 3",
   "language": "python",
   "name": "python3"
  },
  "language_info": {
   "codemirror_mode": {
    "name": "ipython",
    "version": 3
   },
   "file_extension": ".py",
   "mimetype": "text/x-python",
   "name": "python",
   "nbconvert_exporter": "python",
   "pygments_lexer": "ipython3",
   "version": "3.12.6"
  }
 },
 "nbformat": 4,
 "nbformat_minor": 5
}
