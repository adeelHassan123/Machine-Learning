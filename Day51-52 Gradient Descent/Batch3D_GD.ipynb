{
 "cells": [
  {
   "cell_type": "code",
   "execution_count": 3,
   "id": "7021b132",
   "metadata": {},
   "outputs": [],
   "source": [
    "import numpy as np\n",
    "class my_nD_GD:\n",
    "    def __init__(self,learning_rate, epochs):\n",
    "        self.learning_rate=learning_rate\n",
    "        self.epochs=epochs\n",
    "\n",
    "    def fit(self, X, y ):\n",
    "        X = np.array(X)\n",
    "        y = np.array(y).reshape(-1,1)\n",
    "\n",
    "        self.number_of_samples, self.number_of_features = X.shape\n",
    "\n",
    "        self.b0 = 0\n",
    "        self.b = np.ones((self.number_of_features, 1))\n",
    "\n",
    "        for i in range(self.epochs):   \n",
    "            # Compute prediction: y_hat = b0 + b1*x1 + b2*x2 + ... + bn*xn\n",
    "            y_hat = self.b0 + np.dot(X,self.b) \n",
    "\n",
    "            error = y - y_hat\n",
    "\n",
    "            slop_b0 = -2 * np.mean(error) \n",
    "            slop_b = -2 * np.dot(X.T , error) / self.number_of_samples \n",
    "\n",
    "            self.b0 -= self.learning_rate * slop_b0\n",
    "            self.b -= self.learning_rate * slop_b  # ← CRITICAL UPDATE STEP\n",
    "\n",
    "\n",
    "        \n",
    "        print(\"My Linear Regression Coefficients:\", self.b.ravel())\n",
    "        print(\"My Linear Regression Intercept:\", self.b0.ravel())\n",
    "\n",
    "    def predict(self, X):\n",
    "        X = np.array(X)\n",
    "        return self.b0 + X.dot(self.b)\n"
   ]
  },
  {
   "cell_type": "code",
   "execution_count": 4,
   "id": "5499c7eb",
   "metadata": {},
   "outputs": [],
   "source": [
    "from sklearn.datasets import load_diabetes \n",
    "import pandas as pd\n",
    "from sklearn.model_selection import train_test_split\n",
    "from sklearn.linear_model import LinearRegression\n",
    "from sklearn.metrics import mean_squared_error, r2_score\n",
    "import time"
   ]
  },
  {
   "cell_type": "code",
   "execution_count": 5,
   "id": "e4f4b87c",
   "metadata": {},
   "outputs": [],
   "source": [
    "X,y = load_diabetes(return_X_y=True)"
   ]
  },
  {
   "cell_type": "code",
   "execution_count": 6,
   "id": "faa88dfb",
   "metadata": {},
   "outputs": [
    {
     "data": {
      "text/plain": [
       "array([[-0.03094232,  0.05068012,  0.02828403, ..., -0.04798064,\n",
       "        -0.03074792,  0.01549073],\n",
       "       [ 0.03081083, -0.04464164,  0.00564998, ...,  0.1081111 ,\n",
       "         0.06605067,  0.01963284],\n",
       "       [ 0.01628068, -0.04464164,  0.02612841, ..., -0.03395821,\n",
       "        -0.05140387, -0.02593034],\n",
       "       ...,\n",
       "       [ 0.0562386 , -0.04464164, -0.05794093, ..., -0.02141183,\n",
       "        -0.02832317,  0.04448548],\n",
       "       [ 0.06350368,  0.05068012, -0.00189471, ...,  0.01770335,\n",
       "        -0.03581619,  0.00306441],\n",
       "       [ 0.0090156 , -0.04464164,  0.0164281 , ...,  0.03430886,\n",
       "         0.03896821,  0.1190434 ]])"
      ]
     },
     "execution_count": 6,
     "metadata": {},
     "output_type": "execute_result"
    }
   ],
   "source": [
    "X_train, X_test, y_train, y_test = train_test_split(X,y)\n",
    "\n",
    "X_train"
   ]
  },
  {
   "cell_type": "code",
   "execution_count": 7,
   "id": "0eb627cb",
   "metadata": {},
   "outputs": [
    {
     "data": {
      "text/plain": [
       "array([[-0.60891269,  1.13258934,  0.55578052, ..., -0.99303712,\n",
       "        -0.62336558,  0.32449367],\n",
       "       [ 0.68698432, -0.88293255,  0.09105895, ...,  2.21385711,\n",
       "         1.39658893,  0.40906643],\n",
       "       [ 0.38206738, -0.88293255,  0.51152132, ..., -0.70494733,\n",
       "        -1.05440587, -0.52123393],\n",
       "       ...,\n",
       "       [ 1.22058897, -0.88293255, -1.21458735, ..., -0.44718278,\n",
       "        -0.57276685,  0.91650299],\n",
       "       [ 1.37304745,  1.13258934, -0.06384824, ...,  0.3564361 ,\n",
       "        -0.72912833,  0.07077539],\n",
       "       [ 0.22960891, -0.88293255,  0.31235494, ...,  0.69759506,\n",
       "         0.83144298,  2.43881268]])"
      ]
     },
     "execution_count": 7,
     "metadata": {},
     "output_type": "execute_result"
    }
   ],
   "source": [
    "from sklearn.preprocessing import StandardScaler\n",
    "\n",
    "scaler = StandardScaler()\n",
    "X_train = scaler.fit_transform(X_train)\n",
    "X_test = scaler.transform(X_test)\n",
    "\n",
    "X_train\n"
   ]
  },
  {
   "cell_type": "code",
   "execution_count": 8,
   "id": "44f2ae2c",
   "metadata": {},
   "outputs": [
    {
     "name": "stdout",
     "output_type": "stream",
     "text": [
      "Time taken by sklearn Linear Regression: 0.008635520935058594\n"
     ]
    }
   ],
   "source": [
    "lr = LinearRegression()\n",
    "start_time = time.time()\n",
    "lr.fit(X_train, y_train)\n",
    "end_time = time.time()\n",
    "print(\"Time taken by sklearn Linear Regression:\", end_time - start_time)\n",
    "y_pred = lr.predict(X_test)\n"
   ]
  },
  {
   "cell_type": "code",
   "execution_count": 9,
   "id": "76c66c47",
   "metadata": {},
   "outputs": [
    {
     "name": "stdout",
     "output_type": "stream",
     "text": [
      "Linear Regression Coefficients: [ -3.21578975 -13.88329918  22.53198946  20.76113316 -61.44242458\n",
      "  42.85216535  14.71658357  12.22596554  47.53876826   2.40164034]\n",
      "Linear Regression Intercept: 155.5800604229607\n"
     ]
    }
   ],
   "source": [
    "print(\"Linear Regression Coefficients:\", lr.coef_)\n",
    "print(\"Linear Regression Intercept:\", lr.intercept_)"
   ]
  },
  {
   "cell_type": "code",
   "execution_count": 10,
   "id": "47f3a193",
   "metadata": {},
   "outputs": [
    {
     "name": "stdout",
     "output_type": "stream",
     "text": [
      "My Linear Regression Coefficients: [ -3.21262679 -13.83055688  22.67809985  20.74073552 -51.88633676\n",
      "  35.16687051  10.14727549  10.92816657  43.83344091   2.38098315]\n",
      "My Linear Regression Intercept: [155.58006042]\n",
      "Time taken by my Linear Regression: 0.21567344665527344\n"
     ]
    }
   ],
   "source": [
    "my_lr = my_nD_GD(learning_rate=0.1, epochs=1000)\n",
    "my_start_time = time.time()\n",
    "my_lr.fit(X_train, y_train)\n",
    "my_end_time = time.time()\n",
    "print(\"Time taken by my Linear Regression:\", my_end_time - my_start_time)\n",
    "y_pred_my = my_lr.predict(X_test)"
   ]
  },
  {
   "cell_type": "code",
   "execution_count": 11,
   "id": "94d63924",
   "metadata": {},
   "outputs": [
    {
     "name": "stdout",
     "output_type": "stream",
     "text": [
      "0.26837014100617795\n",
      "0.2756525712053134\n"
     ]
    }
   ],
   "source": [
    "print(r2_score(y_test, y_pred))\n",
    "print(r2_score(y_test, y_pred_my))"
   ]
  },
  {
   "cell_type": "code",
   "execution_count": null,
   "id": "8f446794",
   "metadata": {},
   "outputs": [],
   "source": []
  }
 ],
 "metadata": {
  "kernelspec": {
   "display_name": "base",
   "language": "python",
   "name": "python3"
  },
  "language_info": {
   "codemirror_mode": {
    "name": "ipython",
    "version": 3
   },
   "file_extension": ".py",
   "mimetype": "text/x-python",
   "name": "python",
   "nbconvert_exporter": "python",
   "pygments_lexer": "ipython3",
   "version": "3.12.7"
  }
 },
 "nbformat": 4,
 "nbformat_minor": 5
}
