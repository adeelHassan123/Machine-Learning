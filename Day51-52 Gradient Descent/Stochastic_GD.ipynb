{
 "cells": [
  {
   "cell_type": "code",
   "execution_count": 3,
   "id": "dfea6d31",
   "metadata": {},
   "outputs": [],
   "source": [
    "import numpy as np\n",
    "\n",
    "class my_SGD:\n",
    "    def __init__(self, learning_rate, epochs):\n",
    "        self.learning_rate = learning_rate\n",
    "        self.epochs = epochs\n",
    "\n",
    "    def fit(self, X, y):\n",
    "        self.number_of_samples = X.shape[0]\n",
    "        self.number_of_features = X.shape[1]\n",
    "\n",
    "        self.b0 = 0\n",
    "        self.b = np.ones(self.number_of_features)\n",
    "\n",
    "        for i in range(self.epochs):\n",
    "            for j in range(self.number_of_samples):\n",
    "                rdm = np.random.randint(0, self.number_of_samples)\n",
    "\n",
    "                y_hat = np.dot(X[rdm], self.b) + self.b0\n",
    "\n",
    "                error = y[rdm] - y_hat\n",
    "                slop_b0 = -2 * error\n",
    "                slop_b = -2 * error * X[rdm]  # ✅ fixed this line (element-wise multiply)\n",
    "\n",
    "                self.b0 -= self.learning_rate * slop_b0\n",
    "                self.b -= self.learning_rate * slop_b  # ✅ now safe\n",
    "\n",
    "        print(\"My Linear Regression Coefficients:\", self.b)\n",
    "        print(\"My Linear Regression Intercept:\", self.b0)\n",
    "\n",
    "    def predict(self, X):\n",
    "        X = np.array(X)\n",
    "        return self.b0 + X.dot(self.b)\n"
   ]
  },
  {
   "cell_type": "code",
   "execution_count": 4,
   "id": "57dbc3d5",
   "metadata": {},
   "outputs": [],
   "source": [
    "from sklearn.datasets import load_diabetes\n",
    "import pandas as pd\n",
    "from sklearn.model_selection import train_test_split\n",
    "from sklearn.linear_model import LinearRegression\n",
    "from sklearn.metrics import mean_squared_error, r2_score\n",
    "import time"
   ]
  },
  {
   "cell_type": "code",
   "execution_count": 7,
   "id": "77b98bde",
   "metadata": {},
   "outputs": [
    {
     "name": "stdout",
     "output_type": "stream",
     "text": [
      "Sklearn Linear Regression Coefficients: [ -0.72793124 -12.08630289  23.5574473   15.97574747 -36.40708754\n",
      "  21.78071306   6.69252973   9.34154588  35.33613848   4.41471485]\n",
      "Sklearn Linear Regression Intercept: 152.1963746223565\n",
      "My Linear Regression Coefficients: [ -0.57812887  -3.57400844  32.79885791  14.22841403 -38.05403435\n",
      "   9.84973845  -6.41289118  -2.5151105   22.19770316  13.02457279]\n",
      "My Linear Regression Intercept: 155.07526866130272\n",
      "Time taken by sklearn Linear Regression: 47.768280029296875\n"
     ]
    }
   ],
   "source": [
    "Xx,yy = load_diabetes(return_X_y=True)\n",
    "X_train, X_test, y_train, y_test = train_test_split(Xx,yy)\n",
    "from sklearn.preprocessing import StandardScaler\n",
    "scaler = StandardScaler()\n",
    "X_train = scaler.fit_transform(X_train)\n",
    "X_test = scaler.transform(X_test)\n",
    " \n",
    "\n",
    "\n",
    "lr = LinearRegression()\n",
    "lr.fit(X_train, y_train)\n",
    "y_pred = lr.predict(X_test)\n",
    "print(\"Sklearn Linear Regression Coefficients:\", lr.coef_)\n",
    "print(\"Sklearn Linear Regression Intercept:\", lr.intercept_)\n",
    "my_lr = my_SGD(learning_rate=0.02, epochs=100)\n",
    "my_start_time = time.time()\n",
    "my_lr.fit(X_train, y_train)\n",
    "end_time = time.time()\n",
    "print(\"Time taken by sklearn Linear Regression:\", end_time - start_time)\n"
   ]
  },
  {
   "cell_type": "code",
   "execution_count": 6,
   "id": "f63cd643",
   "metadata": {},
   "outputs": [
    {
     "name": "stdout",
     "output_type": "stream",
     "text": [
      "Linear Regression R2 Score: 0.42327960104354456\n",
      "My Linear Regression R2 Score: 0.08479090692715507\n",
      "My Linear Regression MSE: 4920.310268232284\n",
      "Linear Regression MSE: 3100.540982779122\n"
     ]
    }
   ],
   "source": [
    "print(\"Linear Regression R2 Score:\", r2_score(y_test, y_pred))\n",
    "y_pred_my = my_lr.predict(X_test)\n",
    "print(\"My Linear Regression R2 Score:\", r2_score(y_test, y_pred_my))\n",
    "print(\"My Linear Regression MSE:\", mean_squared_error(y_test, y_pred_my))   \n",
    "print(\"Linear Regression MSE:\", mean_squared_error(y_test, y_pred))   "
   ]
  }
 ],
 "metadata": {
  "kernelspec": {
   "display_name": "base",
   "language": "python",
   "name": "python3"
  },
  "language_info": {
   "codemirror_mode": {
    "name": "ipython",
    "version": 3
   },
   "file_extension": ".py",
   "mimetype": "text/x-python",
   "name": "python",
   "nbconvert_exporter": "python",
   "pygments_lexer": "ipython3",
   "version": "3.12.7"
  }
 },
 "nbformat": 4,
 "nbformat_minor": 5
}
