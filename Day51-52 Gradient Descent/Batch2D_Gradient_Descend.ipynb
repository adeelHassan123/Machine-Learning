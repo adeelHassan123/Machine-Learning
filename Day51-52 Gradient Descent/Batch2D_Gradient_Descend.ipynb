{
 "cells": [
  {
   "cell_type": "code",
   "execution_count": null,
   "id": "54e0cff3",
   "metadata": {},
   "outputs": [],
   "source": [
    "import numpy as np\n",
    "class myGradientDescend:\n",
    "    def __init__(self, learning_rate,epochs):\n",
    "        self.learning_rate = learning_rate\n",
    "        self.epochs = epochs\n",
    "        self.m = 23430\n",
    "        self.b = 23430\n",
    "    \n",
    "    def fit(self,X,y):\n",
    "        n = len(y)\n",
    "        X = X.ravel()\n",
    "        y = y.ravel()\n",
    "        for i in range(self.epochs):\n",
    "            slope_b = -2 * np.sum(y - (self.m * X + self.b)) / n \n",
    "            slope_m = -2 * np.sum((y - (self.m * X + self.b)) * X) / n\n",
    "\n",
    "            self.b = self.b - (self.learning_rate * slope_b)\n",
    "            self.m = self.m - (self.learning_rate * slope_m)\n",
    "        print(\"Cofficients: \" , self.m, \"   \" ,self.b)\n",
    "    def predict(self, X):\n",
    "        return self.m * X + self.b"
   ]
  },
  {
   "cell_type": "code",
   "execution_count": null,
   "id": "7b4f1986",
   "metadata": {},
   "outputs": [],
   "source": [
    "from sklearn.datasets import make_regression\n",
    "X, y = make_regression(n_samples=100, n_features=1, noise=10, random_state=42)"
   ]
  },
  {
   "cell_type": "code",
   "execution_count": 8,
   "id": "1c85734e",
   "metadata": {},
   "outputs": [],
   "source": [
    "from sklearn.model_selection import train_test_split\n",
    "X_train, X_test, y_train, y_test = train_test_split(X, y, test_size=0.2, random_state=42)"
   ]
  },
  {
   "cell_type": "code",
   "execution_count": 9,
   "id": "ac0f0794",
   "metadata": {},
   "outputs": [
    {
     "name": "stdout",
     "output_type": "stream",
     "text": [
      "Cofficients:  [44.24418216]     0.09922221422587718\n"
     ]
    }
   ],
   "source": [
    "from sklearn.linear_model import LinearRegression\n",
    "lr = LinearRegression()\n",
    "lr.fit(X_train, y_train)\n",
    "print(\"Cofficients: \" , lr.coef_, \"   \" ,lr.intercept_)\n"
   ]
  },
  {
   "cell_type": "code",
   "execution_count": 10,
   "id": "cf241f1c",
   "metadata": {},
   "outputs": [
    {
     "name": "stdout",
     "output_type": "stream",
     "text": [
      "Cofficients:  44.24988849033867     0.10233943839614142\n"
     ]
    }
   ],
   "source": [
    "my_red = myGradientDescend(learning_rate=0.01, epochs=1000)\n",
    "my_red.fit(X_train, y_train)"
   ]
  }
 ],
 "metadata": {
  "kernelspec": {
   "display_name": "base",
   "language": "python",
   "name": "python3"
  },
  "language_info": {
   "codemirror_mode": {
    "name": "ipython",
    "version": 3
   },
   "file_extension": ".py",
   "mimetype": "text/x-python",
   "name": "python",
   "nbconvert_exporter": "python",
   "pygments_lexer": "ipython3",
   "version": "3.12.7"
  }
 },
 "nbformat": 4,
 "nbformat_minor": 5
}
