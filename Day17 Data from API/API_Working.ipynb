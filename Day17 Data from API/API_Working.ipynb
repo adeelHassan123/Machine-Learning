{
 "cells": [
  {
   "cell_type": "code",
   "execution_count": 1,
   "id": "78a232d6-6963-4e14-8279-edc4e52e2975",
   "metadata": {},
   "outputs": [],
   "source": [
    "import pandas as pd\n",
    "import requests"
   ]
  },
  {
   "cell_type": "markdown",
   "id": "cd89ca1c-84d1-4fb2-9a2e-4360a182a9fa",
   "metadata": {},
   "source": [
    "# python will make http req\n"
   ]
  },
  {
   "cell_type": "code",
   "execution_count": 2,
   "id": "c8de0b1a-4050-4a32-a5c5-79f1e0731522",
   "metadata": {},
   "outputs": [],
   "source": [
    "#TMDB gives api key and api link to its user \n",
    "# after getting key we can run that api link on browswer\n",
    "# For better understanding we can go and run this api on jsonviewer softwares available\n",
    "\n",
    "response = requests.get('https://api.themoviedb.org/3/movie/top_rated?api_key=8265bd1679663a7ea12ac168da84d2e8&language=en-US&page=1')\n"
   ]
  },
  {
   "cell_type": "markdown",
   "id": "574f899e-cb76-40ba-ba68-262f081e24e8",
   "metadata": {},
   "source": [
    "# response check\n",
    "200 mean normal\n",
    "500 mean server down\n",
    "404 erorrooorrrr\n"
   ]
  },
  {
   "cell_type": "code",
   "execution_count": 3,
   "id": "2cd57dce-5b00-4f86-928b-5f03a0ac15ee",
   "metadata": {},
   "outputs": [
    {
     "data": {
      "text/plain": [
       "<Response [200]>"
      ]
     },
     "execution_count": 3,
     "metadata": {},
     "output_type": "execute_result"
    }
   ],
   "source": [
    "response"
   ]
  },
  {
   "cell_type": "markdown",
   "id": "43c755df-c6e1-4bf8-8864-c0dc9db89749",
   "metadata": {},
   "source": [
    "# convert to json\n"
   ]
  },
  {
   "cell_type": "code",
   "execution_count": 18,
   "id": "00b320b5-5c4c-40e4-98e4-ff125a9bede3",
   "metadata": {},
   "outputs": [
    {
     "data": {
      "text/html": [
       "<div>\n",
       "<style scoped>\n",
       "    .dataframe tbody tr th:only-of-type {\n",
       "        vertical-align: middle;\n",
       "    }\n",
       "\n",
       "    .dataframe tbody tr th {\n",
       "        vertical-align: top;\n",
       "    }\n",
       "\n",
       "    .dataframe thead th {\n",
       "        text-align: right;\n",
       "    }\n",
       "</style>\n",
       "<table border=\"1\" class=\"dataframe\">\n",
       "  <thead>\n",
       "    <tr style=\"text-align: right;\">\n",
       "      <th></th>\n",
       "      <th>id</th>\n",
       "      <th>title</th>\n",
       "      <th>overview</th>\n",
       "      <th>popularity</th>\n",
       "    </tr>\n",
       "  </thead>\n",
       "  <tbody>\n",
       "    <tr>\n",
       "      <th>0</th>\n",
       "      <td>278</td>\n",
       "      <td>The Shawshank Redemption</td>\n",
       "      <td>Imprisoned in the 1940s for the double murder ...</td>\n",
       "      <td>29.9461</td>\n",
       "    </tr>\n",
       "    <tr>\n",
       "      <th>1</th>\n",
       "      <td>238</td>\n",
       "      <td>The Godfather</td>\n",
       "      <td>Spanning the years 1945 to 1955, a chronicle o...</td>\n",
       "      <td>29.5207</td>\n",
       "    </tr>\n",
       "    <tr>\n",
       "      <th>2</th>\n",
       "      <td>240</td>\n",
       "      <td>The Godfather Part II</td>\n",
       "      <td>In the continuing saga of the Corleone crime f...</td>\n",
       "      <td>23.6364</td>\n",
       "    </tr>\n",
       "    <tr>\n",
       "      <th>3</th>\n",
       "      <td>424</td>\n",
       "      <td>Schindler's List</td>\n",
       "      <td>The true story of how businessman Oskar Schind...</td>\n",
       "      <td>13.7040</td>\n",
       "    </tr>\n",
       "    <tr>\n",
       "      <th>4</th>\n",
       "      <td>389</td>\n",
       "      <td>12 Angry Men</td>\n",
       "      <td>The defense and the prosecution have rested an...</td>\n",
       "      <td>16.0953</td>\n",
       "    </tr>\n",
       "  </tbody>\n",
       "</table>\n",
       "</div>"
      ],
      "text/plain": [
       "    id                     title  \\\n",
       "0  278  The Shawshank Redemption   \n",
       "1  238             The Godfather   \n",
       "2  240     The Godfather Part II   \n",
       "3  424          Schindler's List   \n",
       "4  389              12 Angry Men   \n",
       "\n",
       "                                            overview  popularity  \n",
       "0  Imprisoned in the 1940s for the double murder ...     29.9461  \n",
       "1  Spanning the years 1945 to 1955, a chronicle o...     29.5207  \n",
       "2  In the continuing saga of the Corleone crime f...     23.6364  \n",
       "3  The true story of how businessman Oskar Schind...     13.7040  \n",
       "4  The defense and the prosecution have rested an...     16.0953  "
      ]
     },
     "execution_count": 18,
     "metadata": {},
     "output_type": "execute_result"
    }
   ],
   "source": [
    "pd.DataFrame(response.json()[\"results\"]).head()[[\"id\",\"title\",\"overview\",\"popularity\"]]"
   ]
  },
  {
   "cell_type": "code",
   "execution_count": 55,
   "id": "dd3addc8-471b-4a53-95e3-db02c29cde2f",
   "metadata": {},
   "outputs": [
    {
     "name": "stdout",
     "output_type": "stream",
     "text": [
      "    id                     title  \\\n",
      "0  278  The Shawshank Redemption   \n",
      "\n",
      "                                            overview  popularity  \n",
      "0  Imprisoned in the 1940s for the double murder ...     29.9461  \n"
     ]
    }
   ],
   "source": [
    "\n",
    "\n",
    "all_dfs = []  # list to collect DataFrames\n",
    "\n",
    "for i in range(1, 400):\n",
    "    response = requests.get(\n",
    "        f'https://api.themoviedb.org/3/movie/top_rated?api_key=8265bd1679663a7ea12ac168da84d2e8&language=en-US&page={i}'\n",
    "    )\n",
    "    \n",
    "    if response.status_code == 200:\n",
    "        results = response.json().get(\"results\", [])\n",
    "        if results:\n",
    "            my_df = pd.DataFrame(results)[[\"id\", \"title\", \"overview\", \"popularity\"]].head()\n",
    "            all_dfs.append(my_df)\n",
    "\n",
    "# ✅ Combine all pages into a single DataFrame\n",
    "df = pd.concat(all_dfs, ignore_index=True)\n",
    "\n",
    "# ✅ Now this works — because df is a DataFrame\n",
    "print(df.head(1))\n"
   ]
  },
  {
   "cell_type": "code",
   "execution_count": 58,
   "id": "85bfb065-c75c-4c78-9bac-41f1d4b0dc11",
   "metadata": {},
   "outputs": [
    {
     "data": {
      "text/html": [
       "<div>\n",
       "<style scoped>\n",
       "    .dataframe tbody tr th:only-of-type {\n",
       "        vertical-align: middle;\n",
       "    }\n",
       "\n",
       "    .dataframe tbody tr th {\n",
       "        vertical-align: top;\n",
       "    }\n",
       "\n",
       "    .dataframe thead th {\n",
       "        text-align: right;\n",
       "    }\n",
       "</style>\n",
       "<table border=\"1\" class=\"dataframe\">\n",
       "  <thead>\n",
       "    <tr style=\"text-align: right;\">\n",
       "      <th></th>\n",
       "      <th>id</th>\n",
       "      <th>title</th>\n",
       "      <th>overview</th>\n",
       "      <th>popularity</th>\n",
       "    </tr>\n",
       "  </thead>\n",
       "  <tbody>\n",
       "    <tr>\n",
       "      <th>0</th>\n",
       "      <td>278</td>\n",
       "      <td>The Shawshank Redemption</td>\n",
       "      <td>Imprisoned in the 1940s for the double murder ...</td>\n",
       "      <td>29.9461</td>\n",
       "    </tr>\n",
       "    <tr>\n",
       "      <th>1</th>\n",
       "      <td>238</td>\n",
       "      <td>The Godfather</td>\n",
       "      <td>Spanning the years 1945 to 1955, a chronicle o...</td>\n",
       "      <td>29.5207</td>\n",
       "    </tr>\n",
       "    <tr>\n",
       "      <th>2</th>\n",
       "      <td>240</td>\n",
       "      <td>The Godfather Part II</td>\n",
       "      <td>In the continuing saga of the Corleone crime f...</td>\n",
       "      <td>23.6364</td>\n",
       "    </tr>\n",
       "    <tr>\n",
       "      <th>3</th>\n",
       "      <td>424</td>\n",
       "      <td>Schindler's List</td>\n",
       "      <td>The true story of how businessman Oskar Schind...</td>\n",
       "      <td>13.7040</td>\n",
       "    </tr>\n",
       "    <tr>\n",
       "      <th>4</th>\n",
       "      <td>389</td>\n",
       "      <td>12 Angry Men</td>\n",
       "      <td>The defense and the prosecution have rested an...</td>\n",
       "      <td>16.0953</td>\n",
       "    </tr>\n",
       "    <tr>\n",
       "      <th>...</th>\n",
       "      <td>...</td>\n",
       "      <td>...</td>\n",
       "      <td>...</td>\n",
       "      <td>...</td>\n",
       "    </tr>\n",
       "    <tr>\n",
       "      <th>1990</th>\n",
       "      <td>292040</td>\n",
       "      <td>Spooks: The Greater Good</td>\n",
       "      <td>During a handover to the head of counter-terro...</td>\n",
       "      <td>1.4728</td>\n",
       "    </tr>\n",
       "    <tr>\n",
       "      <th>1991</th>\n",
       "      <td>48572</td>\n",
       "      <td>Red State</td>\n",
       "      <td>Set in Middle America, a group of teens receiv...</td>\n",
       "      <td>1.3838</td>\n",
       "    </tr>\n",
       "    <tr>\n",
       "      <th>1992</th>\n",
       "      <td>13997</td>\n",
       "      <td>Black Sheep</td>\n",
       "      <td>When dignified Albert Donnelly runs for Govern...</td>\n",
       "      <td>1.9730</td>\n",
       "    </tr>\n",
       "    <tr>\n",
       "      <th>1993</th>\n",
       "      <td>308531</td>\n",
       "      <td>Teenage Mutant Ninja Turtles: Out of the Shadows</td>\n",
       "      <td>After supervillain Shredder escapes custody, h...</td>\n",
       "      <td>6.1874</td>\n",
       "    </tr>\n",
       "    <tr>\n",
       "      <th>1994</th>\n",
       "      <td>140222</td>\n",
       "      <td>Love and Honor</td>\n",
       "      <td>When a young soldier in Vietnam gets dumped by...</td>\n",
       "      <td>1.0066</td>\n",
       "    </tr>\n",
       "  </tbody>\n",
       "</table>\n",
       "<p>1995 rows × 4 columns</p>\n",
       "</div>"
      ],
      "text/plain": [
       "          id                                             title  \\\n",
       "0        278                          The Shawshank Redemption   \n",
       "1        238                                     The Godfather   \n",
       "2        240                             The Godfather Part II   \n",
       "3        424                                  Schindler's List   \n",
       "4        389                                      12 Angry Men   \n",
       "...      ...                                               ...   \n",
       "1990  292040                          Spooks: The Greater Good   \n",
       "1991   48572                                         Red State   \n",
       "1992   13997                                       Black Sheep   \n",
       "1993  308531  Teenage Mutant Ninja Turtles: Out of the Shadows   \n",
       "1994  140222                                    Love and Honor   \n",
       "\n",
       "                                               overview  popularity  \n",
       "0     Imprisoned in the 1940s for the double murder ...     29.9461  \n",
       "1     Spanning the years 1945 to 1955, a chronicle o...     29.5207  \n",
       "2     In the continuing saga of the Corleone crime f...     23.6364  \n",
       "3     The true story of how businessman Oskar Schind...     13.7040  \n",
       "4     The defense and the prosecution have rested an...     16.0953  \n",
       "...                                                 ...         ...  \n",
       "1990  During a handover to the head of counter-terro...      1.4728  \n",
       "1991  Set in Middle America, a group of teens receiv...      1.3838  \n",
       "1992  When dignified Albert Donnelly runs for Govern...      1.9730  \n",
       "1993  After supervillain Shredder escapes custody, h...      6.1874  \n",
       "1994  When a young soldier in Vietnam gets dumped by...      1.0066  \n",
       "\n",
       "[1995 rows x 4 columns]"
      ]
     },
     "execution_count": 58,
     "metadata": {},
     "output_type": "execute_result"
    }
   ],
   "source": [
    "df\n"
   ]
  },
  {
   "cell_type": "code",
   "execution_count": 59,
   "id": "024d147a-7687-4a83-a2f6-64eb0f2a0372",
   "metadata": {},
   "outputs": [],
   "source": [
    "df.to_csv(\"my_movies.csv\")"
   ]
  },
  {
   "cell_type": "code",
   "execution_count": 60,
   "id": "5b0788b7-ff70-4f8b-9367-d7efa944d26b",
   "metadata": {},
   "outputs": [
    {
     "data": {
      "text/plain": [
       "16"
      ]
     },
     "execution_count": 60,
     "metadata": {},
     "output_type": "execute_result"
    }
   ],
   "source": [
    "print\n",
    "(8+8\n",
    "     )\n"
   ]
  },
  {
   "cell_type": "code",
   "execution_count": null,
   "id": "d8d65f47-7f9f-47f4-82ef-c58f869d7952",
   "metadata": {},
   "outputs": [],
   "source": []
  }
 ],
 "metadata": {
  "kernelspec": {
   "display_name": "Python 3 (ipykernel)",
   "language": "python",
   "name": "python3"
  },
  "language_info": {
   "codemirror_mode": {
    "name": "ipython",
    "version": 3
   },
   "file_extension": ".py",
   "mimetype": "text/x-python",
   "name": "python",
   "nbconvert_exporter": "python",
   "pygments_lexer": "ipython3",
   "version": "3.12.6"
  }
 },
 "nbformat": 4,
 "nbformat_minor": 5
}
