{
 "cells": [
  {
   "cell_type": "code",
   "execution_count": 19,
   "id": "f49f5ee1",
   "metadata": {},
   "outputs": [],
   "source": [
    "import pandas as pd\n",
    "from sklearn.model_selection import train_test_split\n",
    "from sklearn.datasets import make_regression\n",
    "from sklearn.metrics import mean_squared_error, r2_score, mean_absolute_error\n",
    "import numpy as np\n",
    "\n"
   ]
  },
  {
   "cell_type": "code",
   "execution_count": 20,
   "id": "37e7b306",
   "metadata": {},
   "outputs": [],
   "source": [
    "X,y = make_regression(n_samples=100,n_features=2,n_informative=2,n_targets=1,noise=0.1,random_state=42)\n",
    "df = pd.DataFrame({\"Feature1\": X[:, 0], \"Feature2\": X[:, 1], \"Target\": y})\n",
    "X_train, X_test, y_train, y_test = train_test_split(df[[\"Feature1\", \"Feature2\"]], df[\"Target\"], test_size=0.2, random_state=42)"
   ]
  },
  {
   "cell_type": "code",
   "execution_count": 21,
   "id": "d3c73729",
   "metadata": {},
   "outputs": [
    {
     "name": "stdout",
     "output_type": "stream",
     "text": [
      "Mean Squared Error: 0.015462772689491542\n",
      "R2 Score: 0.9999983497435199\n",
      "Mean Absolute Error: 0.09667801070656065\n",
      "Accuracy: 100.00%\n",
      "99.99983497435198\n"
     ]
    }
   ],
   "source": [
    "from sklearn.linear_model import LinearRegression\n",
    "\n",
    "regressor = LinearRegression()\n",
    "regressor.fit(X_train.values, y_train.values)\n",
    "y_pred = regressor.predict(X_test.values)\n",
    "mse = mean_squared_error(y_test.values, y_pred)\n",
    "r2 = r2_score(y_test.values, y_pred)\n",
    "mae = mean_absolute_error(y_test.values, y_pred)\n",
    "accuracy = regressor.score(X_test.values, y_test.values)\n",
    "print(f\"Mean Squared Error: {mse}\")\n",
    "print(f\"R2 Score: {r2}\")\n",
    "print(f\"Mean Absolute Error: {mae}\")\n",
    "print(f\"Accuracy: {accuracy * 100:.2f}%\")\n",
    "print(accuracy*100)"
   ]
  }
 ],
 "metadata": {
  "kernelspec": {
   "display_name": "Python 3",
   "language": "python",
   "name": "python3"
  },
  "language_info": {
   "codemirror_mode": {
    "name": "ipython",
    "version": 3
   },
   "file_extension": ".py",
   "mimetype": "text/x-python",
   "name": "python",
   "nbconvert_exporter": "python",
   "pygments_lexer": "ipython3",
   "version": "3.12.6"
  }
 },
 "nbformat": 4,
 "nbformat_minor": 5
}
