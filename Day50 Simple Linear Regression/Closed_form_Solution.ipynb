{
 "cells": [
  {
   "cell_type": "code",
   "execution_count": 9,
   "id": "7d04487e",
   "metadata": {},
   "outputs": [],
   "source": [
    "class my_lr:\n",
    "    def __init__(self):\n",
    "        self.m=0\n",
    "        self.b=0\n",
    "\n",
    "    def fit(self, X_train, y_train):\n",
    "        \n",
    "        numerator = 0\n",
    "        denominator = 0\n",
    "        X_mean = X_train.mean()\n",
    "        y_mean = y_train.mean()\n",
    "\n",
    "        for i in range(X_train.shape[0]):\n",
    "            numerator += (X_train[i] - X_mean) * (y_train[i] - y_mean)\n",
    "            denominator += (X_train[i] - X_mean) ** 2\n",
    "        \n",
    "        self.m = numerator / denominator\n",
    "        self.b = y_mean - self.m * X_mean\n",
    "\n",
    "        print(\"Fit hogyaaa bhaiii\")\n",
    "        print(f\"y = {self.m}x + {self.b}\")\n",
    "\n",
    "    def predict(self, X_test):\n",
    "        return (self.m * X_test + self.b)\n",
    "\n",
    "    def score(self, X_test, y_test):\n",
    "        y_pred = self.predict(X_test)\n",
    "        numerator = 0\n",
    "        denominator = 0\n",
    "        y_mean = y_test.mean()\n",
    "\n",
    "        for i in range(y_test.shape[0]):\n",
    "            numerator += (y_test[i] - y_pred[i]) ** 2\n",
    "            denominator += (y_test[i] - y_mean) ** 2\n",
    "        \n",
    "        return 1 - (numerator / denominator)\n",
    "\n",
    "        \n"
   ]
  },
  {
   "cell_type": "code",
   "execution_count": 10,
   "id": "968a5542",
   "metadata": {},
   "outputs": [],
   "source": [
    "import pandas as pd\n",
    "\n",
    "df = pd.read_csv(\"placement.csv\")\n",
    "from sklearn.model_selection import train_test_split\n",
    "X_train, X_test, y_train, y_test = train_test_split(df.iloc[:,0:1],df.iloc[:,-1], test_size=0.2, random_state=0)"
   ]
  },
  {
   "cell_type": "code",
   "execution_count": 11,
   "id": "c7ff5ab7",
   "metadata": {},
   "outputs": [],
   "source": [
    "regressor = my_lr()"
   ]
  },
  {
   "cell_type": "code",
   "execution_count": 12,
   "id": "8a2323a5",
   "metadata": {},
   "outputs": [
    {
     "name": "stdout",
     "output_type": "stream",
     "text": [
      "Fit hogyaaa bhaiii\n",
      "y = [0.57633042]x + [-1.02960704]\n"
     ]
    }
   ],
   "source": [
    "regressor.fit(X_train.values, y_train.values)"
   ]
  },
  {
   "cell_type": "code",
   "execution_count": 13,
   "id": "8344d080",
   "metadata": {},
   "outputs": [
    {
     "data": {
      "text/plain": [
       "array([[2.97012606],\n",
       "       [2.55516816],\n",
       "       [2.61856451],\n",
       "       [3.40237388],\n",
       "       [3.05657563],\n",
       "       [2.35921582],\n",
       "       [3.51763996],\n",
       "       [2.4687186 ],\n",
       "       [4.1227869 ],\n",
       "       [3.21794814],\n",
       "       [2.12868365],\n",
       "       [3.19489493],\n",
       "       [2.53787825],\n",
       "       [3.05081232],\n",
       "       [3.36779405],\n",
       "       [2.86062328],\n",
       "       [2.63009112],\n",
       "       [2.82028015],\n",
       "       [2.37074243],\n",
       "       [2.91825632],\n",
       "       [3.1660784 ],\n",
       "       [2.3361626 ],\n",
       "       [3.50611335],\n",
       "       [3.9902309 ],\n",
       "       [2.20360661],\n",
       "       [1.90967809],\n",
       "       [3.08539215],\n",
       "       [2.6070379 ],\n",
       "       [1.9212047 ],\n",
       "       [1.90391479],\n",
       "       [2.91249302],\n",
       "       [3.69630239],\n",
       "       [2.60127459],\n",
       "       [2.09410383],\n",
       "       [2.50906173],\n",
       "       [3.64443265],\n",
       "       [3.17184171],\n",
       "       [2.97012606],\n",
       "       [3.83462169],\n",
       "       [2.50329842]])"
      ]
     },
     "execution_count": 13,
     "metadata": {},
     "output_type": "execute_result"
    }
   ],
   "source": [
    "regressor.predict(X_test.values)"
   ]
  },
  {
   "cell_type": "code",
   "execution_count": 14,
   "id": "2d7875fb",
   "metadata": {},
   "outputs": [],
   "source": [
    "#calculate accuracy\n",
    "\n",
    "from sklearn.metrics import accuracy_score\n",
    "\n",
    "accuracy = regressor.score(X_test.values, y_test.values)\n"
   ]
  },
  {
   "cell_type": "code",
   "execution_count": 15,
   "id": "f733fb14",
   "metadata": {},
   "outputs": [
    {
     "name": "stdout",
     "output_type": "stream",
     "text": [
      "[72.97167944]\n"
     ]
    }
   ],
   "source": [
    "print(accuracy*100)"
   ]
  }
 ],
 "metadata": {
  "kernelspec": {
   "display_name": "base",
   "language": "python",
   "name": "python3"
  },
  "language_info": {
   "codemirror_mode": {
    "name": "ipython",
    "version": 3
   },
   "file_extension": ".py",
   "mimetype": "text/x-python",
   "name": "python",
   "nbconvert_exporter": "python",
   "pygments_lexer": "ipython3",
   "version": "3.12.7"
  }
 },
 "nbformat": 4,
 "nbformat_minor": 5
}
