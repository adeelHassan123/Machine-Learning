{
 "cells": [
  {
   "cell_type": "code",
   "execution_count": 250,
   "id": "7021b132",
   "metadata": {},
   "outputs": [],
   "source": [
    "import numpy as np\n",
    "class my_nD_GD:\n",
    "    def __init__(self,learning_rate, epochs):\n",
    "        self.learning_rate=learning_rate\n",
    "        self.epochs=epochs\n",
    "\n",
    "    def fit(self, X, y ):\n",
    "        X = np.array(X)\n",
    "        y = np.array(y).reshape(-1,1)\n",
    "\n",
    "        self.number_of_samples, self.number_of_features = X.shape\n",
    "\n",
    "        self.b0 = 0\n",
    "        self.b = np.ones((self.number_of_features, 1))\n",
    "\n",
    "        for i in range(self.epochs):   \n",
    "            # Compute prediction: y_hat = b0 + b1*x1 + b2*x2 + ... + bn*xn\n",
    "            y_hat = self.b0 + np.dot(X,self.b) \n",
    "\n",
    "            error = y - y_hat\n",
    "\n",
    "            slop_b0 = -2 * np.mean(error) \n",
    "            slop_b = -2 * np.dot(X.T , error) / self.number_of_samples \n",
    "\n",
    "            self.b0 -= self.learning_rate * slop_b0\n",
    "            self.b -= self.learning_rate * slop_b  # ← CRITICAL UPDATE STEP\n",
    "\n",
    "\n",
    "        \n",
    "        print(\"My Linear Regression Coefficients:\", self.b.ravel())\n",
    "        print(\"My Linear Regression Intercept:\", self.b0.ravel())\n",
    "\n",
    "    def predict(self, X):\n",
    "        X = np.array(X)\n",
    "        return self.b0 + X.dot(self.b)\n"
   ]
  },
  {
   "cell_type": "code",
   "execution_count": null,
   "id": "5499c7eb",
   "metadata": {},
   "outputs": [],
   "source": [
    "from sklearn.datasets import load_diabetes \n",
    "import pandas as pd\n",
    "from sklearn.model_selection import train_test_split\n",
    "from sklearn.linear_model import LinearRegression\n",
    "from sklearn.metrics import mean_squared_error, r2_score"
   ]
  },
  {
   "cell_type": "code",
   "execution_count": 252,
   "id": "e4f4b87c",
   "metadata": {},
   "outputs": [],
   "source": [
    "X,y = load_diabetes(return_X_y=True)"
   ]
  },
  {
   "cell_type": "code",
   "execution_count": 253,
   "id": "faa88dfb",
   "metadata": {},
   "outputs": [
    {
     "data": {
      "text/plain": [
       "array([[ 0.05987114, -0.04464164, -0.02129532, ...,  0.07120998,\n",
       "         0.07912244,  0.13561183],\n",
       "       [-0.07090025,  0.05068012, -0.07518593, ..., -0.00259226,\n",
       "        -0.09643495, -0.03421455],\n",
       "       [-0.10722563, -0.04464164, -0.01159501, ...,  0.03430886,\n",
       "         0.00702714, -0.03007245],\n",
       "       ...,\n",
       "       [-0.09996055, -0.04464164, -0.02345095, ..., -0.03949338,\n",
       "        -0.01811369, -0.05078298],\n",
       "       [ 0.01264814, -0.04464164, -0.02560657, ..., -0.0763945 ,\n",
       "        -0.07213275,  0.01134862],\n",
       "       [-0.05637009, -0.04464164,  0.09295276, ...,  0.02545259,\n",
       "         0.02606052,  0.04034337]])"
      ]
     },
     "execution_count": 253,
     "metadata": {},
     "output_type": "execute_result"
    }
   ],
   "source": [
    "X_train, X_test, y_train, y_test = train_test_split(X,y)\n",
    "\n",
    "X_train"
   ]
  },
  {
   "cell_type": "code",
   "execution_count": 254,
   "id": "0eb627cb",
   "metadata": {},
   "outputs": [
    {
     "data": {
      "text/plain": [
       "array([[ 1.22655788, -0.96730167, -0.4565324 , ...,  1.47509732,\n",
       "         1.6460557 ,  2.77548386],\n",
       "       [-1.57713744,  1.03380366, -1.58981743, ..., -0.08241648,\n",
       "        -2.04537811, -0.75328619],\n",
       "       [-2.3559417 , -0.96730167, -0.2525411 , ...,  0.69634042,\n",
       "         0.1301125 , -0.66721862],\n",
       "       ...,\n",
       "       [-2.20018085, -0.96730167, -0.50186381, ..., -0.86117338,\n",
       "        -0.39852213, -1.09755644],\n",
       "       [ 0.21411235, -0.96730167, -0.54719521, ..., -1.63993028,\n",
       "        -1.53437741,  0.193457  ],\n",
       "       [-1.26561574, -0.96730167,  1.94603186, ...,  0.50943877,\n",
       "         0.53032611,  0.79592993]])"
      ]
     },
     "execution_count": 254,
     "metadata": {},
     "output_type": "execute_result"
    }
   ],
   "source": [
    "from sklearn.preprocessing import StandardScaler\n",
    "\n",
    "scaler = StandardScaler()\n",
    "X_train = scaler.fit_transform(X_train)\n",
    "X_test = scaler.transform(X_test)\n",
    "\n",
    "X_train\n"
   ]
  },
  {
   "cell_type": "code",
   "execution_count": 255,
   "id": "44f2ae2c",
   "metadata": {},
   "outputs": [
    {
     "name": "stdout",
     "output_type": "stream",
     "text": [
      "Linear Regression Coefficients: [  0.38576644 -12.05078162  26.206744    16.66009622 -37.43609019\n",
      "  22.97483927   4.62891774  10.88225659  32.63880987   1.9673498 ]\n",
      "Linear Regression Intercept: 152.56495468277944\n"
     ]
    }
   ],
   "source": [
    "lr = LinearRegression()\n",
    "lr.fit(X_train, y_train)\n",
    "y_pred = lr.predict(X_test)\n",
    "print(\"Linear Regression Coefficients:\", lr.coef_)\n",
    "print(\"Linear Regression Intercept:\", lr.intercept_)"
   ]
  },
  {
   "cell_type": "code",
   "execution_count": 256,
   "id": "47f3a193",
   "metadata": {},
   "outputs": [
    {
     "name": "stdout",
     "output_type": "stream",
     "text": [
      "My Linear Regression Coefficients: [  0.38484282 -11.98886924  26.32725515  16.64364124 -31.22134708\n",
      "  17.97048104   1.80265272  10.16856307  30.2810431    1.97573734]\n",
      "My Linear Regression Intercept: [152.56495468]\n"
     ]
    }
   ],
   "source": [
    "my_lr = my_nD_GD(learning_rate=0.1, epochs=1000)\n",
    "my_lr.fit(X_train, y_train)\n",
    "y_pred_my = my_lr.predict(X_test)"
   ]
  },
  {
   "cell_type": "code",
   "execution_count": 257,
   "id": "94d63924",
   "metadata": {},
   "outputs": [
    {
     "name": "stdout",
     "output_type": "stream",
     "text": [
      "0.4487196897272706\n",
      "0.44839368026936754\n"
     ]
    }
   ],
   "source": [
    "print(r2_score(y_test, y_pred))\n",
    "print(r2_score(y_test, y_pred_my))"
   ]
  }
 ],
 "metadata": {
  "kernelspec": {
   "display_name": "base",
   "language": "python",
   "name": "python3"
  },
  "language_info": {
   "codemirror_mode": {
    "name": "ipython",
    "version": 3
   },
   "file_extension": ".py",
   "mimetype": "text/x-python",
   "name": "python",
   "nbconvert_exporter": "python",
   "pygments_lexer": "ipython3",
   "version": "3.12.7"
  }
 },
 "nbformat": 4,
 "nbformat_minor": 5
}
