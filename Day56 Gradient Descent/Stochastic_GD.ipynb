{
 "cells": [
  {
   "cell_type": "code",
   "execution_count": 94,
   "id": "dfea6d31",
   "metadata": {},
   "outputs": [],
   "source": [
    "import numpy as np\n",
    "\n",
    "class my_SGD:\n",
    "    def __init__(self, learning_rate, epochs):\n",
    "        self.learning_rate = learning_rate\n",
    "        self.epochs = epochs\n",
    "\n",
    "    def fit(self, X, y):\n",
    "        self.number_of_samples = X.shape[0]\n",
    "        self.number_of_features = X.shape[1]\n",
    "\n",
    "        self.b0 = 0\n",
    "        self.b = np.ones(self.number_of_features)\n",
    "\n",
    "        for i in range(self.epochs):\n",
    "            for j in range(self.number_of_samples):\n",
    "                rdm = np.random.randint(0, self.number_of_samples)\n",
    "\n",
    "                y_hat = np.dot(X[rdm], self.b) + self.b0\n",
    "\n",
    "                error = y[rdm] - y_hat\n",
    "                slop_b0 = -2 * error\n",
    "                slop_b = -2 * error * X[rdm]  # ✅ fixed this line (element-wise multiply)\n",
    "\n",
    "                self.b0 -= self.learning_rate * slop_b0\n",
    "                self.b -= self.learning_rate * slop_b  # ✅ now safe\n",
    "\n",
    "        print(\"My Linear Regression Coefficients:\", self.b)\n",
    "        print(\"My Linear Regression Intercept:\", self.b0)\n",
    "\n",
    "    def predict(self, X):\n",
    "        X = np.array(X)\n",
    "        return self.b0 + X.dot(self.b)\n"
   ]
  },
  {
   "cell_type": "code",
   "execution_count": 95,
   "id": "57dbc3d5",
   "metadata": {},
   "outputs": [],
   "source": [
    "from sklearn.datasets import load_diabetes\n",
    "import pandas as pd\n",
    "from sklearn.model_selection import train_test_split\n",
    "from sklearn.linear_model import LinearRegression\n",
    "from sklearn.metrics import mean_squared_error, r2_score"
   ]
  },
  {
   "cell_type": "code",
   "execution_count": null,
   "id": "77b98bde",
   "metadata": {},
   "outputs": [
    {
     "name": "stdout",
     "output_type": "stream",
     "text": [
      "Sklearn Linear Regression Coefficients: [ -1.02421586 -13.48499504  22.57487575  17.43658822 -54.07298509\n",
      "  38.37724537  10.84646175  11.16270593  43.26014192   2.33924721]\n",
      "Sklearn Linear Regression Intercept: 157.71601208459214\n"
     ]
    },
    {
     "name": "stdout",
     "output_type": "stream",
     "text": [
      "My Linear Regression Coefficients: [  4.53395741 -21.21252604  19.86549942  22.4298095  -42.910419\n",
      "  38.66995236  11.59613908  10.80704262  27.65338984  -0.52010388]\n",
      "My Linear Regression Intercept: 145.0406269869942\n"
     ]
    }
   ],
   "source": [
    "Xx,yy = load_diabetes(return_X_y=True)\n",
    "X_train, X_test, y_train, y_test = train_test_split(Xx,yy)\n",
    "from sklearn.preprocessing import StandardScaler\n",
    "scaler = StandardScaler()\n",
    "X_train = scaler.fit_transform(X_train)\n",
    "X_test = scaler.transform(X_test)\n",
    " \n",
    "\n",
    "\n",
    "lr = LinearRegression()\n",
    "lr.fit(X_train, y_train)\n",
    "y_pred = lr.predict(X_test)\n",
    "print(\"Sklearn Linear Regression Coefficients:\", lr.coef_)\n",
    "print(\"Sklearn Linear Regression Intercept:\", lr.intercept_)\n",
    "my_lr = my_SGD(learning_rate=0.02, epochs=100)\n",
    "my_lr.fit(X_train, y_train)\n"
   ]
  },
  {
   "cell_type": "code",
   "execution_count": null,
   "id": "f63cd643",
   "metadata": {},
   "outputs": [
    {
     "name": "stdout",
     "output_type": "stream",
     "text": [
      "Linear Regression R2 Score: 0.3871295023663198\n",
      "Linear Regression MSE: 3202.064653135106\n",
      "My Linear Regression R2 Score: 0.2991389254057155\n",
      "My Linear Regression MSE: 3661.7890441481663\n"
     ]
    }
   ],
   "source": [
    "print(\"Linear Regression R2 Score:\", r2_score(y_test, y_pred))\n",
    "y_pred_my = my_lr.predict(X_test)\n",
    "print(\"My Linear Regression R2 Score:\", r2_score(y_test, y_pred_my))\n",
    "print(\"My Linear Regression MSE:\", mean_squared_error(y_test, y_pred_my))   \n",
    "print(\"Linear Regression MSE:\", mean_squared_error(y_test, y_pred))   "
   ]
  }
 ],
 "metadata": {
  "kernelspec": {
   "display_name": "base",
   "language": "python",
   "name": "python3"
  },
  "language_info": {
   "codemirror_mode": {
    "name": "ipython",
    "version": 3
   },
   "file_extension": ".py",
   "mimetype": "text/x-python",
   "name": "python",
   "nbconvert_exporter": "python",
   "pygments_lexer": "ipython3",
   "version": "3.12.7"
  }
 },
 "nbformat": 4,
 "nbformat_minor": 5
}
